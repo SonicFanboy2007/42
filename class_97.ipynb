{
  "nbformat": 4,
  "nbformat_minor": 0,
  "metadata": {
    "colab": {
      "name": "class 97",
      "provenance": [],
      "authorship_tag": "ABX9TyOuJWmuKshwehLoyzE/Vmlz",
      "include_colab_link": true
    },
    "kernelspec": {
      "name": "python3",
      "display_name": "Python 3"
    },
    "language_info": {
      "name": "python"
    }
  },
  "cells": [
    {
      "cell_type": "markdown",
      "metadata": {
        "id": "view-in-github",
        "colab_type": "text"
      },
      "source": [
        "<a href=\"https://colab.research.google.com/github/SonicFanboy2007/42/blob/main/class_97.ipynb\" target=\"_parent\"><img src=\"https://colab.research.google.com/assets/colab-badge.svg\" alt=\"Open In Colab\"/></a>"
      ]
    },
    {
      "cell_type": "code",
      "execution_count": 8,
      "metadata": {
        "colab": {
          "base_uri": "https://localhost:8080/"
        },
        "id": "yS7Zr2ypyfjf",
        "outputId": "94087943-9263-4ae3-d8fc-84669663b3f5"
      },
      "outputs": [
        {
          "output_type": "stream",
          "name": "stdout",
          "text": [
            "Enter no. 134\n",
            "Enter no. 235\n",
            "69.0\n",
            "-1.0\n"
          ]
        }
      ],
      "source": [
        "number_1 = float(input(\"Enter no. 1\"))\n",
        "number_2 = float(input(\"Enter no. 2\"))\n",
        "\n",
        "number_3 = (number_1 + number_2)\n",
        "number_4 = (number_1 - number_2)\n",
        "\n",
        "print(number_3)\n",
        "print(number_4)"
      ]
    },
    {
      "cell_type": "code",
      "source": [
        "def calculate(option):\n",
        "  if(option==\"1\" or option== \"2\"):\n",
        "    number_1 = float(input(\"Enter no. 1\"))\n",
        "    number_2 = float(input(\"Enter no. 2\"))\n",
        "\n",
        "    if(option== \"1\"):\n",
        "      print(\"sum\", number_1, \"+\", number_2, \"=\", number_1+number_2)\n",
        "    elif (option == \"2\"):\n",
        "      print(\"subtract\", number_1, \"-\", number_2, \"=\", number_1-number_2)\n",
        "print(\"choose operation\")\n",
        "option = input(\"enter option no. 1/2\")\n",
        "calculate(option)\n"
      ],
      "metadata": {
        "colab": {
          "base_uri": "https://localhost:8080/"
        },
        "id": "p1TE81hN04Ms",
        "outputId": "de7f2d0d-1683-4f50-a6ea-5096e1e612c0"
      },
      "execution_count": 9,
      "outputs": [
        {
          "output_type": "stream",
          "name": "stdout",
          "text": [
            "choose operation\n",
            "enter option no. 1/21\n",
            "Enter no. 134\n",
            "Enter no. 235\n",
            "sum 34.0 + 35.0 = 69.0\n"
          ]
        }
      ]
    }
  ]
}